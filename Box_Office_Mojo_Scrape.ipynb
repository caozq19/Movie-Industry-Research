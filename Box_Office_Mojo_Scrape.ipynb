{
 "cells": [
  {
   "cell_type": "code",
   "execution_count": 1,
   "metadata": {},
   "outputs": [
    {
     "data": {
      "text/plain": [
       "<Response [200]>"
      ]
     },
     "execution_count": 1,
     "metadata": {},
     "output_type": "execute_result"
    }
   ],
   "source": [
    "import requests\n",
    "page = requests.get(\"https://www.boxofficemojo.com/genres/chart/?id=animation.htm&sort=date&order=DESC&p=.htm\")\n",
    "page"
   ]
  },
  {
   "cell_type": "code",
   "execution_count": 13,
   "metadata": {},
   "outputs": [],
   "source": [
    "from bs4 import BeautifulSoup as bs\n",
    "soup = bs(page.content, 'html.parser')\n"
   ]
  },
  {
   "cell_type": "code",
   "execution_count": 3,
   "metadata": {},
   "outputs": [],
   "source": [
    "addthis = soup.find(\"div\", id=\"addthis\").nextSibling.nextSibling"
   ]
  },
  {
   "cell_type": "code",
   "execution_count": 37,
   "metadata": {},
   "outputs": [
    {
     "data": {
      "text/plain": [
       "[<b>Rows: <font size=\"5\">#1-100</font>, <a href=\"/genres/chart/?view=main&amp;sort=date&amp;order=DESC&amp;pagenum=2&amp;id=animation.htm\">#101-200</a>, <a href=\"/genres/chart/?view=main&amp;sort=date&amp;order=DESC&amp;pagenum=3&amp;id=animation.htm\">#201-300</a>, <a href=\"/genres/chart/?view=main&amp;sort=date&amp;order=DESC&amp;pagenum=4&amp;id=animation.htm\">#301-400</a>, <a href=\"/genres/chart/?view=main&amp;sort=date&amp;order=DESC&amp;pagenum=5&amp;id=animation.htm\">#401-500</a>, <a href=\"/genres/chart/?view=main&amp;sort=date&amp;order=DESC&amp;pagenum=6&amp;id=animation.htm\">#501-537</a></b>,\n",
       " <b>Date</b>,\n",
       " <b>Is It Wrong to Try to Pick Up Girls in a Dungeon?: Arrow of the Orion</b>,\n",
       " <b><a href=\"/schedule/?view=bydate&amp;release=theatrical&amp;date=2019-07-23&amp;p=.htm\">7/23/19</a></b>,\n",
       " <b>The Lion King (2019)</b>,\n",
       " <b><a href=\"/schedule/?view=bydate&amp;release=theatrical&amp;date=2019-07-19&amp;p=.htm\">7/19/19</a></b>,\n",
       " <b>Sound! Euphonium the Movie - Our Promise: A Brand New Day</b>,\n",
       " <b><a href=\"/schedule/?view=bydate&amp;release=theatrical&amp;date=2019-07-11&amp;p=.htm\">7/11/19</a></b>,\n",
       " <b>Toy Story 4</b>]"
      ]
     },
     "execution_count": 37,
     "metadata": {},
     "output_type": "execute_result"
    }
   ],
   "source": [
    "addthis.find_all(\"b\")[1:10]"
   ]
  },
  {
   "cell_type": "code",
   "execution_count": 48,
   "metadata": {},
   "outputs": [
    {
     "data": {
      "text/plain": [
       "'The Lion King (2019)'"
      ]
     },
     "execution_count": 48,
     "metadata": {},
     "output_type": "execute_result"
    }
   ],
   "source": [
    "a = addthis.find_all(\"b\")\n",
    "#a[62].find(\"b\").get_text()\n",
    "a[].get_text()"
   ]
  },
  {
   "cell_type": "code",
   "execution_count": 77,
   "metadata": {},
   "outputs": [
    {
     "data": {
      "text/plain": [
       "100"
      ]
     },
     "execution_count": 77,
     "metadata": {},
     "output_type": "execute_result"
    }
   ],
   "source": [
    "# titles = []\n",
    "# for i in range(len(a)):\n",
    "#     try:\n",
    "#         titles.append(a[i].find(\"b\").get_text())\n",
    "#     except:\n",
    "#         pass\n",
    "\n",
    "# titles = titles[1:]\n",
    "# len(titles)\n",
    "titles = [a[i].get_text() for i in range(3, len(a), 2)]\n",
    "titles = titles[:-2]\n",
    "len(titles)"
   ]
  },
  {
   "cell_type": "code",
   "execution_count": 6,
   "metadata": {},
   "outputs": [],
   "source": [
    "import csv\n",
    "\n",
    "with open('animation_titles.csv', 'w') as csvFile:\n",
    "    writer = csv.writer(csvFile)\n",
    "    writer.writerow(titles)\n",
    "csvFile.close()"
   ]
  },
  {
   "cell_type": "code",
   "execution_count": 45,
   "metadata": {},
   "outputs": [
    {
     "data": {
      "text/plain": [
       "'$351,873,087'"
      ]
     },
     "execution_count": 45,
     "metadata": {},
     "output_type": "execute_result"
    }
   ],
   "source": [
    "td = addthis.find_all(\"td\", align=\"right\")\n",
    "td[5].find(\"font\", size=\"2\").get_text()"
   ]
  },
  {
   "cell_type": "code",
   "execution_count": 78,
   "metadata": {},
   "outputs": [
    {
     "data": {
      "text/plain": [
       "100"
      ]
     },
     "execution_count": 78,
     "metadata": {},
     "output_type": "execute_result"
    }
   ],
   "source": [
    "boxoffice = [td[i].find(\"font\", size=\"2\").get_text() for i in range(0,len(td),5)]\n",
    "boxoffice = boxoffice[:-2]\n",
    "len(boxoffice)"
   ]
  },
  {
   "cell_type": "code",
   "execution_count": 15,
   "metadata": {},
   "outputs": [
    {
     "data": {
      "text/plain": [
       "100"
      ]
     },
     "execution_count": 15,
     "metadata": {},
     "output_type": "execute_result"
    }
   ],
   "source": [
    "release_dates = [td[i].find(\"font\", size=\"2\").get_text() for i in range(4, len(td), 5)]\n",
    "release_dates = release_dates[:-1]\n",
    "len(release_dates)"
   ]
  },
  {
   "cell_type": "code",
   "execution_count": 10,
   "metadata": {},
   "outputs": [],
   "source": [
    "with open(\"animation_boxoffice.csv\", \"w\") as file:\n",
    "    writer = csv.writer(file)\n",
    "    writer.writerow(boxoffice)\n",
    "csvFile.close()"
   ]
  },
  {
   "cell_type": "code",
   "execution_count": 11,
   "metadata": {},
   "outputs": [],
   "source": [
    "with open(\"animation_dates.csv\", \"w\") as file:\n",
    "    writer = csv.writer(file)\n",
    "    writer.writerow(release_dates)\n",
    "csvFile.close()"
   ]
  },
  {
   "cell_type": "code",
   "execution_count": 88,
   "metadata": {},
   "outputs": [],
   "source": [
    "def animations(addthis):\n",
    "    td = addthis.find_all(\"td\", align=\"right\")\n",
    "    a = addthis.find_all(\"b\")\n",
    "    \n",
    "    titles = [a[i].get_text() for i in range(3, len(a), 2)]\n",
    "    boxoffice = [td[i].find(\"font\", size=\"2\").get_text() for i in range(0,len(td),5)]\n",
    "    dates = [td[i].find(\"font\", size=\"2\").get_text() for i in range(4, len(td), 5)]\n",
    "    \n",
    "    titles = titles[:-2]\n",
    "    boxoffice = boxoffice[:-2]\n",
    "    dates = dates[:-1]\n",
    "    \n",
    "    mov = []\n",
    "    for i in range(len(titles)):\n",
    "        d = {'title': titles[i], 'boxoffice': boxoffice[i], 'dates': dates[i]}\n",
    "        mov.append(d)\n",
    "    \n",
    "    return mov"
   ]
  },
  {
   "cell_type": "code",
   "execution_count": 89,
   "metadata": {},
   "outputs": [
    {
     "data": {
      "text/plain": [
       "[{'title': 'Is It Wrong to Try to Pick Up Girls in a Dungeon?: Arrow of the Orion',\n",
       "  'boxoffice': '$271,489',\n",
       "  'dates': '7/23/19'},\n",
       " {'title': 'The Lion King (2019)',\n",
       "  'boxoffice': '$351,873,087',\n",
       "  'dates': '7/19/19'},\n",
       " {'title': 'Sound! Euphonium the Movie - Our Promise: A Brand New Day',\n",
       "  'boxoffice': '$90,341',\n",
       "  'dates': '7/11/19'},\n",
       " {'title': 'Toy Story 4', 'boxoffice': '$396,210,139', 'dates': '6/21/19'},\n",
       " {'title': 'The Secret Life of Pets 2',\n",
       "  'boxoffice': '$153,728,180',\n",
       "  'dates': '6/7/19'},\n",
       " {'title': 'Funan', 'boxoffice': '$15,152', 'dates': '6/7/19'},\n",
       " {'title': 'Uglydolls', 'boxoffice': '$20,150,241', 'dates': '5/3/19'},\n",
       " {'title': 'Ploey', 'boxoffice': '$77,815', 'dates': '4/26/19'},\n",
       " {'title': \"Okko's Inn\", 'boxoffice': '$134,787', 'dates': '4/22/19'},\n",
       " {'title': \"The Pilgrim's Progress\",\n",
       "  'boxoffice': '$1,294,596',\n",
       "  'dates': '4/18/19'},\n",
       " {'title': 'Missing Link', 'boxoffice': '$16,649,539', 'dates': '4/12/19'},\n",
       " {'title': 'Trinity Seven: Heavens Library & Crimson Lord',\n",
       "  'boxoffice': '$15,712',\n",
       "  'dates': '3/29/19'},\n",
       " {'title': \"Made In Abyss: Journey's Dawn\",\n",
       "  'boxoffice': '$134,047',\n",
       "  'dates': '3/20/19'},\n",
       " {'title': 'Wonder Park', 'boxoffice': '$45,216,793', 'dates': '3/15/19'},\n",
       " {'title': 'This Magnificent Cake!', 'boxoffice': '$7,888', 'dates': '3/1/19'},\n",
       " {'title': 'How to Train Your Dragon: The Hidden World',\n",
       "  'boxoffice': '$160,799,505',\n",
       "  'dates': '2/22/19'},\n",
       " {'title': 'Asterix: The Secret of the Magic Potion',\n",
       "  'boxoffice': '$1,271,953',\n",
       "  'dates': '2/15/19'},\n",
       " {'title': 'Ruben Brandt, Collector',\n",
       "  'boxoffice': '$117,963',\n",
       "  'dates': '2/15/19'},\n",
       " {'title': 'The LEGO Movie 2: The Second Part',\n",
       "  'boxoffice': '$105,806,508',\n",
       "  'dates': '2/8/19'},\n",
       " {'title': 'I Want to Eat Your Pancreas',\n",
       "  'boxoffice': '$277,019',\n",
       "  'dates': '2/7/19'},\n",
       " {'title': 'Peppa Celebrates Chinese New Year',\n",
       "  'boxoffice': '$131,225',\n",
       "  'dates': '2/6/19'},\n",
       " {'title': 'Tito and the Birds', 'boxoffice': '$4,332', 'dates': '1/25/19'},\n",
       " {'title': 'Dragon Ball Super: Broly',\n",
       "  'boxoffice': '$30,712,119',\n",
       "  'dates': '1/16/19'},\n",
       " {'title': 'Spider-Man: Into The Spider-Verse',\n",
       "  'boxoffice': '$190,241,310',\n",
       "  'dates': '12/14/18'},\n",
       " {'title': 'Racetime', 'boxoffice': '$1,875,283', 'dates': '12/7/18'},\n",
       " {'title': 'Henchmen', 'boxoffice': '$1,469', 'dates': '12/7/18'},\n",
       " {'title': 'Mirai', 'boxoffice': '$812,794', 'dates': '11/29/18'},\n",
       " {'title': 'Pokemon the Movie: The Power of Us',\n",
       "  'boxoffice': '$789,170',\n",
       "  'dates': '11/24/18'},\n",
       " {'title': 'Ralph Breaks the Internet',\n",
       "  'boxoffice': '$201,091,711',\n",
       "  'dates': '11/21/18'},\n",
       " {'title': 'Castle in the Sky - Studio Ghibli Fest 2018',\n",
       "  'boxoffice': '$523,664',\n",
       "  'dates': '11/18/18'},\n",
       " {'title': \"Dr. Seuss' The Grinch (2018)\",\n",
       "  'boxoffice': '$270,620,950',\n",
       "  'dates': '11/9/18'},\n",
       " {'title': 'Dragon Ball Z: Saiyan Double Feature',\n",
       "  'boxoffice': '$540,707',\n",
       "  'dates': '11/3/18'},\n",
       " {'title': 'RWBY Volume 6 Premiere',\n",
       "  'boxoffice': '$238,379',\n",
       "  'dates': '10/25/18'},\n",
       " {'title': 'The Legend of Hallowaiian',\n",
       "  'boxoffice': '$451',\n",
       "  'dates': '10/19/18'},\n",
       " {'title': 'Liyana', 'boxoffice': '$44,045', 'dates': '10/10/18'},\n",
       " {'title': 'Smallfoot', 'boxoffice': '$83,240,103', 'dates': '9/28/18'},\n",
       " {'title': 'My Hero Academia: Two Heroes',\n",
       "  'boxoffice': '$5,754,556',\n",
       "  'dates': '9/25/18'},\n",
       " {'title': 'Digimon Adventure Tri. 6: Future',\n",
       "  'boxoffice': '$54,324',\n",
       "  'dates': '9/20/18'},\n",
       " {'title': 'Dragon Ball Z: Broly - The Legendary Super Saiyan (2018 re-release)',\n",
       "  'boxoffice': '$658,982',\n",
       "  'dates': '9/15/18'},\n",
       " {'title': \"A Wizard's Tale\", 'boxoffice': '$2,150', 'dates': '9/14/18'},\n",
       " {'title': 'Snow Queen 3: Fire and Ice',\n",
       "  'boxoffice': 'n/a',\n",
       "  'dates': '8/31/18'},\n",
       " {'title': 'Night Is Short, Walk On Girl',\n",
       "  'boxoffice': '$406,490',\n",
       "  'dates': '8/21/18'},\n",
       " {'title': 'Luis & the Aliens', 'boxoffice': '$169,710', 'dates': '8/17/18'},\n",
       " {'title': 'Grave of the Fireflies - Studio Ghibli Fest 2018',\n",
       "  'boxoffice': '$516,962',\n",
       "  'dates': '8/12/18'},\n",
       " {'title': 'Sailor Moon SuperS - The Movie',\n",
       "  'boxoffice': '$231,434',\n",
       "  'dates': '8/4/18'},\n",
       " {'title': 'Teen Titans Go! To The Movies',\n",
       "  'boxoffice': '$29,790,236',\n",
       "  'dates': '7/27/18'},\n",
       " {'title': 'Maquia: When the Promised Flower Blooms (Subtitled)',\n",
       "  'boxoffice': '$204,238',\n",
       "  'dates': '7/20/18'},\n",
       " {'title': 'Hotel Transylvania 3: Summer Vacation',\n",
       "  'boxoffice': '$167,510,016',\n",
       "  'dates': '7/13/18'},\n",
       " {'title': 'Yellow Submarine (2018 re-release)',\n",
       "  'boxoffice': '$992,305',\n",
       "  'dates': '7/8/18'},\n",
       " {'title': 'Fireworks (2018)', 'boxoffice': '$525,280', 'dates': '7/3/18'},\n",
       " {'title': 'Pom Poko - Studio Ghibli Fest 2018',\n",
       "  'boxoffice': '$372,405',\n",
       "  'dates': '6/17/18'},\n",
       " {'title': 'Incredibles 2', 'boxoffice': '$608,581,744', 'dates': '6/15/18'},\n",
       " {'title': 'Haikara-San: Here Comes Miss Modern',\n",
       "  'boxoffice': '$16,572',\n",
       "  'dates': '6/8/18'},\n",
       " {'title': \"Fate/Stay Night: Heaven's Feel - I. Presage Flower\",\n",
       "  'boxoffice': '$193,833',\n",
       "  'dates': '6/5/18'},\n",
       " {'title': 'Porco Rosso - Studio Ghibli Fest 2018',\n",
       "  'boxoffice': '$443,059',\n",
       "  'dates': '5/20/18'},\n",
       " {'title': 'Lu Over the Wall', 'boxoffice': '$109,857', 'dates': '5/11/18'},\n",
       " {'title': 'Digimon Adventure Tri. 5: Coexistence',\n",
       "  'boxoffice': '$52,339',\n",
       "  'dates': '5/10/18'},\n",
       " {'title': 'The Boxcar Children: Surprise Island',\n",
       "  'boxoffice': '$78,676',\n",
       "  'dates': '5/8/18'},\n",
       " {'title': 'Zoo Wars', 'boxoffice': '$8,998', 'dates': '4/27/18'},\n",
       " {'title': 'The Cat Returns - Studio Ghibli Fest 2018',\n",
       "  'boxoffice': '$563,718',\n",
       "  'dates': '4/22/18'},\n",
       " {'title': 'Sgt. Stubby: An American Hero',\n",
       "  'boxoffice': '$4,015,935',\n",
       "  'dates': '4/13/18'},\n",
       " {'title': 'The Son of Bigfoot', 'boxoffice': '$289,308', 'dates': '3/30/18'},\n",
       " {'title': 'Ice Dragon: The Legend of the Blue Daisies',\n",
       "  'boxoffice': '$20,549',\n",
       "  'dates': '3/24/18'},\n",
       " {'title': 'Sherlock Gnomes', 'boxoffice': '$43,242,871', 'dates': '3/23/18'},\n",
       " {'title': 'Isle Of Dogs', 'boxoffice': '$32,015,231', 'dates': '3/23/18'},\n",
       " {'title': 'Sheep & Wolves', 'boxoffice': 'n/a', 'dates': '3/9/18'},\n",
       " {'title': 'The Big Bad Fox and Other Tales',\n",
       "  'boxoffice': '$35,787',\n",
       "  'dates': '3/8/18'},\n",
       " {'title': 'Early Man', 'boxoffice': '$8,267,544', 'dates': '2/16/18'},\n",
       " {'title': 'Mind Game (2017 re-release)',\n",
       "  'boxoffice': '$36,613',\n",
       "  'dates': '2/16/18'},\n",
       " {'title': 'Tehran Taboo', 'boxoffice': '$74,758', 'dates': '2/14/18'},\n",
       " {'title': 'Mazinger Z: INFINITY',\n",
       "  'boxoffice': '$220,682',\n",
       "  'dates': '2/11/18'},\n",
       " {'title': 'Peter Rabbit', 'boxoffice': '$115,253,424', 'dates': '2/9/18'},\n",
       " {'title': 'Monster Family', 'boxoffice': '$127,259', 'dates': '2/9/18'},\n",
       " {'title': 'Bilal: A New Breed of Hero',\n",
       "  'boxoffice': '$490,973',\n",
       "  'dates': '2/2/18'},\n",
       " {'title': 'Digimon Adventure Tri. 4: Loss',\n",
       "  'boxoffice': '$59,114',\n",
       "  'dates': '2/1/18'},\n",
       " {'title': 'Have a Nice Day', 'boxoffice': '$79,393', 'dates': '1/26/18'},\n",
       " {'title': \"Mary and the Witch's Flower\",\n",
       "  'boxoffice': '$2,418,404',\n",
       "  'dates': '1/18/18'},\n",
       " {'title': 'Condorito: La Pelicula',\n",
       "  'boxoffice': '$447,719',\n",
       "  'dates': '1/12/18'},\n",
       " {'title': 'Left Tern', 'boxoffice': 'n/a', 'dates': '2018'},\n",
       " {'title': 'Ferdinand', 'boxoffice': '$84,410,380', 'dates': '12/15/17'},\n",
       " {'title': 'Birdboy: The Forgotten Children',\n",
       "  'boxoffice': '$38,786',\n",
       "  'dates': '12/15/17'},\n",
       " {'title': 'Tad the Lost Explorer and the Secret of King Midas',\n",
       "  'boxoffice': '$5,874',\n",
       "  'dates': '12/1/17'},\n",
       " {'title': 'Coco', 'boxoffice': '$209,726,015', 'dates': '11/22/17'},\n",
       " {'title': 'The Star', 'boxoffice': '$40,852,824', 'dates': '11/17/17'},\n",
       " {'title': 'The Breadwinner', 'boxoffice': '$313,215', 'dates': '11/17/17'},\n",
       " {'title': 'Pokemon the Movie: I Choose You!',\n",
       "  'boxoffice': '$2,401,722',\n",
       "  'dates': '11/5/17'},\n",
       " {'title': 'A Silent Voice', 'boxoffice': '$644,391', 'dates': '10/20/17'},\n",
       " {'title': 'My Little Pony: The Movie',\n",
       "  'boxoffice': '$21,885,107',\n",
       "  'dates': '10/6/17'},\n",
       " {'title': 'Window Horses', 'boxoffice': 'n/a', 'dates': '9/29/17'},\n",
       " {'title': 'The LEGO Ninjago Movie',\n",
       "  'boxoffice': '$59,281,555',\n",
       "  'dates': '9/22/17'},\n",
       " {'title': 'Loving Vincent', 'boxoffice': '$6,735,118', 'dates': '9/22/17'},\n",
       " {'title': 'Lupin the Third: The Castle of Cagliostro (2017 re-release)',\n",
       "  'boxoffice': '$142,425',\n",
       "  'dates': '9/8/17'},\n",
       " {'title': 'Napping Princess', 'boxoffice': '$48,198', 'dates': '9/8/17'},\n",
       " {'title': 'Leap!', 'boxoffice': '$24,702,560', 'dates': '8/25/17'},\n",
       " {'title': 'Fairy Tail: Dragon Cry',\n",
       "  'boxoffice': '$519,461',\n",
       "  'dates': '8/14/17'},\n",
       " {'title': 'The Nut Job 2: Nutty by Nature',\n",
       "  'boxoffice': '$28,370,522',\n",
       "  'dates': '8/11/17'},\n",
       " {'title': 'The Emoji Movie', 'boxoffice': '$86,089,513', 'dates': '7/28/17'},\n",
       " {'title': 'The Girl Without Hands',\n",
       "  'boxoffice': '$21,787',\n",
       "  'dates': '7/21/17'},\n",
       " {'title': 'Despicable Me 3', 'boxoffice': '$264,624,300', 'dates': '6/30/17'},\n",
       " {'title': 'Cars 3', 'boxoffice': '$152,901,115', 'dates': '6/16/17'}]"
      ]
     },
     "execution_count": 89,
     "metadata": {},
     "output_type": "execute_result"
    }
   ],
   "source": [
    "animations(addthis)"
   ]
  },
  {
   "cell_type": "code",
   "execution_count": 90,
   "metadata": {},
   "outputs": [],
   "source": [
    "with open('animation_movies_info.csv', 'w') as csvFile:\n",
    "    writer = csv.writer(csvFile)\n",
    "    writer.writerow(animations(addthis))\n",
    "csvFile.close()"
   ]
  },
  {
   "cell_type": "code",
   "execution_count": null,
   "metadata": {},
   "outputs": [],
   "source": []
  }
 ],
 "metadata": {
  "kernelspec": {
   "display_name": "Python 3",
   "language": "python",
   "name": "python3"
  },
  "language_info": {
   "codemirror_mode": {
    "name": "ipython",
    "version": 3
   },
   "file_extension": ".py",
   "mimetype": "text/x-python",
   "name": "python",
   "nbconvert_exporter": "python",
   "pygments_lexer": "ipython3",
   "version": "3.7.3"
  }
 },
 "nbformat": 4,
 "nbformat_minor": 2
}
