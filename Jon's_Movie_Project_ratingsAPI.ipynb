{
 "cells": [
  {
   "cell_type": "code",
   "execution_count": null,
   "metadata": {},
   "outputs": [],
   "source": [
    "import mysql.connector\n",
    "from mysql.connector import errorcode\n",
    "import json\n",
    "import requests\n",
    "import time\n",
    "import pandas as pd\n",
    "import project1_config\n",
    "project1_config.host"
   ]
  },
  {
   "cell_type": "code",
   "execution_count": null,
   "metadata": {},
   "outputs": [],
   "source": [
    "title = 'harry potter and the deathly hallows'\n",
    "url_params = {'term': title.replace(' ', '+')}\n",
    "api_key = '394cff72'"
   ]
  },
  {
   "cell_type": "code",
   "execution_count": null,
   "metadata": {},
   "outputs": [],
   "source": [
    "# write a function to make a call to the API\n",
    "def omdb_call(url_params, api_key):\n",
    "    url = f'http://www.omdbapi.com/?apikey={api_key}&t={title}'\n",
    "    response = requests.get(url, params=url_params)\n",
    "    \n",
    "    data = response.json()\n",
    "    return data"
   ]
  },
  {
   "cell_type": "code",
   "execution_count": null,
   "metadata": {},
   "outputs": [],
   "source": [
    "test = omdb_call(url_params, api_key)"
   ]
  },
  {
   "cell_type": "code",
   "execution_count": null,
   "metadata": {},
   "outputs": [],
   "source": [
    "test"
   ]
  },
  {
   "cell_type": "code",
   "execution_count": null,
   "metadata": {},
   "outputs": [],
   "source": [
    "# write a function to parse the API response so that you can easily insert the data in to the DB\n",
    "def all_results(url_params, api_key):\n",
    "    url = 'https://api.yelp.com/v3/businesses/search'\n",
    "    headers = {'Authorization': 'Bearer {}'.format(api_key)}\n",
    "    response = requests.get(url, headers=headers, params=url_params)\n",
    "    num = response.json()['total']\n",
    "    print('{} total matches found.'.format(num))\n",
    "    cur = 0\n",
    "    results = []\n",
    "    while cur < num and cur < 1000:\n",
    "        url_params['offset'] = cur\n",
    "        results.extend(yelp_call(url_params, api_key))\n",
    "        # Optional, add to DB instead\n",
    "\n",
    "        # results_50 = yelp_call(url_params, api_key)\n",
    "        # for business in results_50:\n",
    "        # dynamic_data_entry(business)\n",
    "        # (use dynamic insert function here)\n",
    "        time.sleep(1) # wait a second\n",
    "        cur += 50\n",
    "    return results"
   ]
  }
 ],
 "metadata": {
  "kernelspec": {
   "display_name": "Python 3",
   "language": "python",
   "name": "python3"
  },
  "language_info": {
   "codemirror_mode": {
    "name": "ipython",
    "version": 3
   },
   "file_extension": ".py",
   "mimetype": "text/x-python",
   "name": "python",
   "nbconvert_exporter": "python",
   "pygments_lexer": "ipython3",
   "version": "3.7.3"
  }
 },
 "nbformat": 4,
 "nbformat_minor": 2
}
