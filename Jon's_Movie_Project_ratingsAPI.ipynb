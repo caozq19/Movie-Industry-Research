{
 "cells": [
  {
   "cell_type": "code",
   "execution_count": 3,
   "metadata": {},
   "outputs": [
    {
     "data": {
      "text/plain": [
       "'flatiron.cahk7e1qbai3.us-east-2.rds.amazonaws.com'"
      ]
     },
     "execution_count": 3,
     "metadata": {},
     "output_type": "execute_result"
    }
   ],
   "source": [
    "import mysql.connector\n",
    "from mysql.connector import errorcode\n",
    "import json\n",
    "import requests\n",
    "import time\n",
    "import pandas as pd\n",
    "import project1_config\n",
    "project1_config.host"
   ]
  },
  {
   "cell_type": "code",
   "execution_count": 53,
   "metadata": {},
   "outputs": [],
   "source": [
    "movies = ['Harry Potter and the Deathly Hallows: Part 1', 'Harry Potter and the Deathly Hallows: Part 2']"
   ]
  },
  {
   "cell_type": "code",
   "execution_count": 57,
   "metadata": {},
   "outputs": [],
   "source": [
    "def all_results(url_params, api_key, movies):\n",
    "    results = []\n",
    "    api_key = '394cff72'\n",
    "    for i in range(len(movies)):\n",
    "        title = movies[i]\n",
    "        url_params = {'term': title.replace(' ', '+')}\n",
    "        url = f'http://www.omdbapi.com/?apikey={api_key}&t={movies[i]}'\n",
    "        response = requests.get(url, params=url_params)\n",
    "        results.append(response.json())\n",
    "        # Optional, add to DB instead\n",
    "\n",
    "        # results_50 = yelp_call(url_params, api_key)\n",
    "        # for business in results_50:\n",
    "        # dynamic_data_entry(business)\n",
    "        # (use dynamic insert function here)\n",
    "        time.sleep(1) # wait a second\n",
    "    return results"
   ]
  },
  {
   "cell_type": "code",
   "execution_count": 58,
   "metadata": {},
   "outputs": [
    {
     "data": {
      "text/plain": [
       "[{'Title': 'Harry Potter and the Deathly Hallows: Part 1',\n",
       "  'Year': '2010',\n",
       "  'Rated': 'PG-13',\n",
       "  'Released': '19 Nov 2010',\n",
       "  'Runtime': '146 min',\n",
       "  'Genre': 'Adventure, Fantasy, Mystery',\n",
       "  'Director': 'David Yates',\n",
       "  'Writer': 'Steve Kloves (screenplay), J.K. Rowling (novel)',\n",
       "  'Actors': 'Bill Nighy, Emma Watson, Richard Griffiths, Harry Melling',\n",
       "  'Plot': 'As Harry, Ron and Hermione race against time and evil to destroy the Horcruxes, they uncover the existence of the three most powerful objects in the wizarding world: the Deathly Hallows.',\n",
       "  'Language': 'English',\n",
       "  'Country': 'UK, USA',\n",
       "  'Awards': 'Nominated for 2 Oscars. Another 15 wins & 53 nominations.',\n",
       "  'Poster': 'https://m.media-amazon.com/images/M/MV5BMTQ2OTE1Mjk0N15BMl5BanBnXkFtZTcwODE3MDAwNA@@._V1_SX300.jpg',\n",
       "  'Ratings': [{'Source': 'Internet Movie Database', 'Value': '7.7/10'},\n",
       "   {'Source': 'Rotten Tomatoes', 'Value': '77%'},\n",
       "   {'Source': 'Metacritic', 'Value': '65/100'}],\n",
       "  'Metascore': '65',\n",
       "  'imdbRating': '7.7',\n",
       "  'imdbVotes': '427,172',\n",
       "  'imdbID': 'tt0926084',\n",
       "  'Type': 'movie',\n",
       "  'DVD': '15 Apr 2011',\n",
       "  'BoxOffice': '$294,980,434',\n",
       "  'Production': 'Warner Bros. Pictures',\n",
       "  'Website': 'http://www.HarryPotter.com/',\n",
       "  'Response': 'True'},\n",
       " {'Title': 'Harry Potter and the Deathly Hallows: Part 2',\n",
       "  'Year': '2011',\n",
       "  'Rated': 'PG-13',\n",
       "  'Released': '15 Jul 2011',\n",
       "  'Runtime': '130 min',\n",
       "  'Genre': 'Adventure, Drama, Fantasy, Mystery',\n",
       "  'Director': 'David Yates',\n",
       "  'Writer': 'Steve Kloves (screenplay), J.K. Rowling (novel)',\n",
       "  'Actors': 'Ralph Fiennes, Michael Gambon, Alan Rickman, Daniel Radcliffe',\n",
       "  'Plot': \"Harry, Ron, and Hermione search for Voldemort's remaining Horcruxes in their effort to destroy the Dark Lord as the final battle rages on at Hogwarts.\",\n",
       "  'Language': 'English',\n",
       "  'Country': 'USA, UK',\n",
       "  'Awards': 'Nominated for 3 Oscars. Another 45 wins & 91 nominations.',\n",
       "  'Poster': 'https://m.media-amazon.com/images/M/MV5BMjIyZGU4YzUtNDkzYi00ZDRhLTljYzctYTMxMDQ4M2E0Y2YxXkEyXkFqcGdeQXVyNTIzOTk5ODM@._V1_SX300.jpg',\n",
       "  'Ratings': [{'Source': 'Internet Movie Database', 'Value': '8.1/10'},\n",
       "   {'Source': 'Rotten Tomatoes', 'Value': '96%'},\n",
       "   {'Source': 'Metacritic', 'Value': '87/100'}],\n",
       "  'Metascore': '87',\n",
       "  'imdbRating': '8.1',\n",
       "  'imdbVotes': '696,862',\n",
       "  'imdbID': 'tt1201607',\n",
       "  'Type': 'movie',\n",
       "  'DVD': '11 Nov 2011',\n",
       "  'BoxOffice': '$381,000,185',\n",
       "  'Production': 'Warner Bros. Pictures',\n",
       "  'Website': 'http://www.HarryPotter.com/',\n",
       "  'Response': 'True'}]"
      ]
     },
     "execution_count": 58,
     "metadata": {},
     "output_type": "execute_result"
    }
   ],
   "source": [
    "test = all_results(url_params, api_key, movies)\n",
    "test"
   ]
  },
  {
   "cell_type": "code",
   "execution_count": 59,
   "metadata": {},
   "outputs": [
    {
     "data": {
      "text/plain": [
       "{'Title': 'Harry Potter and the Deathly Hallows: Part 1',\n",
       " 'Year': '2010',\n",
       " 'Rated': 'PG-13',\n",
       " 'Released': '19 Nov 2010',\n",
       " 'Runtime': '146 min',\n",
       " 'Genre': 'Adventure, Fantasy, Mystery',\n",
       " 'Director': 'David Yates',\n",
       " 'Writer': 'Steve Kloves (screenplay), J.K. Rowling (novel)',\n",
       " 'Actors': 'Bill Nighy, Emma Watson, Richard Griffiths, Harry Melling',\n",
       " 'Plot': 'As Harry, Ron and Hermione race against time and evil to destroy the Horcruxes, they uncover the existence of the three most powerful objects in the wizarding world: the Deathly Hallows.',\n",
       " 'Language': 'English',\n",
       " 'Country': 'UK, USA',\n",
       " 'Awards': 'Nominated for 2 Oscars. Another 15 wins & 53 nominations.',\n",
       " 'Poster': 'https://m.media-amazon.com/images/M/MV5BMTQ2OTE1Mjk0N15BMl5BanBnXkFtZTcwODE3MDAwNA@@._V1_SX300.jpg',\n",
       " 'Ratings': [{'Source': 'Internet Movie Database', 'Value': '7.7/10'},\n",
       "  {'Source': 'Rotten Tomatoes', 'Value': '77%'},\n",
       "  {'Source': 'Metacritic', 'Value': '65/100'}],\n",
       " 'Metascore': '65',\n",
       " 'imdbRating': '7.7',\n",
       " 'imdbVotes': '427,172',\n",
       " 'imdbID': 'tt0926084',\n",
       " 'Type': 'movie',\n",
       " 'DVD': '15 Apr 2011',\n",
       " 'BoxOffice': '$294,980,434',\n",
       " 'Production': 'Warner Bros. Pictures',\n",
       " 'Website': 'http://www.HarryPotter.com/',\n",
       " 'Response': 'True'}"
      ]
     },
     "execution_count": 59,
     "metadata": {},
     "output_type": "execute_result"
    }
   ],
   "source": [
    "test[0]"
   ]
  },
  {
   "cell_type": "code",
   "execution_count": 63,
   "metadata": {},
   "outputs": [
    {
     "data": {
      "text/plain": [
       "[{'Title': 'Harry Potter and the Deathly Hallows: Part 1',\n",
       "  'Genre': 'Adventure, Fantasy, Mystery',\n",
       "  'Metascore': '65',\n",
       "  'imdbRating': '7.7',\n",
       "  'Rotten Tomatoes': '77%'},\n",
       " {'Title': 'Harry Potter and the Deathly Hallows: Part 2',\n",
       "  'Genre': 'Adventure, Drama, Fantasy, Mystery',\n",
       "  'Metascore': '87',\n",
       "  'imdbRating': '8.1',\n",
       "  'Rotten Tomatoes': '96%'}]"
      ]
     },
     "execution_count": 63,
     "metadata": {},
     "output_type": "execute_result"
    }
   ],
   "source": [
    "all_data = []\n",
    "for movie in test:\n",
    "    data = {'Title': movie['Title'],\n",
    "            'Genre': movie['Genre'],\n",
    "            'Metascore': movie['Metascore'],\n",
    "            'imdbRating': movie['imdbRating'],\n",
    "            'Rotten Tomatoes': movie['Ratings'][1]['Value']}\n",
    "    all_data.append(data)\n",
    "all_data"
   ]
  }
 ],
 "metadata": {
  "kernelspec": {
   "display_name": "Python 3",
   "language": "python",
   "name": "python3"
  },
  "language_info": {
   "codemirror_mode": {
    "name": "ipython",
    "version": 3
   },
   "file_extension": ".py",
   "mimetype": "text/x-python",
   "name": "python",
   "nbconvert_exporter": "python",
   "pygments_lexer": "ipython3",
   "version": "3.7.3"
  }
 },
 "nbformat": 4,
 "nbformat_minor": 2
}
