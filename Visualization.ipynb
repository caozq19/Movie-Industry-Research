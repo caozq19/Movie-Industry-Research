{
 "cells": [
  {
   "cell_type": "code",
   "execution_count": 23,
   "metadata": {},
   "outputs": [
    {
     "name": "stdout",
     "output_type": "stream",
     "text": [
      "<mysql.connector.connection.MySQLConnection object at 0x118ebf550>\n"
     ]
    }
   ],
   "source": [
    "import pandas as pd\n",
    "import matplotlib.pyplot as plt\n",
    "plt.style.use('ggplot')\n",
    "import mysql.connector\n",
    "import config\n",
    "cnx = mysql.connector.connect(\n",
    "    host = config.host,\n",
    "    user = config.user,\n",
    "    passwd = config.passwd,\n",
    "    database = \"Movie Project1\"\n",
    ")\n",
    "cursor = cnx.cursor()\n",
    "print(cnx)"
   ]
  },
  {
   "cell_type": "code",
   "execution_count": 14,
   "metadata": {
    "scrolled": false
   },
   "outputs": [],
   "source": [
    "query1 = (\"\"\"SELECT genre, AVG(ratings)\n",
    "             FROM `Movie Project1`.Reviews\n",
    "             JOIN `Movie Project1`.Genres USING (title)\n",
    "             GROUP BY genre\"\"\")\n",
    "cursor.execute(query1)\n",
    "query1_result = cursor.fetchall()"
   ]
  },
  {
   "cell_type": "code",
   "execution_count": 15,
   "metadata": {
    "scrolled": true
   },
   "outputs": [
    {
     "data": {
      "text/plain": [
       "[('Rom-Com', 6.0986577072399575),\n",
       " ('Horror', 5.9107382425525845),\n",
       " ('3D', 6.582758636310182),\n",
       " ('Animation', 6.702727278796109),\n",
       " ('Gay/Lesbian', 6.951515125505852)]"
      ]
     },
     "execution_count": 15,
     "metadata": {},
     "output_type": "execute_result"
    }
   ],
   "source": [
    "query1_result"
   ]
  },
  {
   "cell_type": "code",
   "execution_count": 18,
   "metadata": {},
   "outputs": [
    {
     "name": "stdout",
     "output_type": "stream",
     "text": [
      "['Rom-Com', 'Horror', '3D', 'Animation', 'Gay/Lesbian']\n",
      "[6.0986577072399575, 5.9107382425525845, 6.582758636310182, 6.702727278796109, 6.951515125505852]\n"
     ]
    }
   ],
   "source": [
    "genres = []\n",
    "avg_ratings = []\n",
    "for t in query1_result:\n",
    "    genres.append(t[0])\n",
    "    avg_ratings.append(t[1])\n",
    "print(genres)\n",
    "print(avg_ratings)"
   ]
  },
  {
   "cell_type": "code",
   "execution_count": 21,
   "metadata": {},
   "outputs": [
    {
     "data": {
      "image/png": "[encoded data removed]",
      "text/plain": [
       "<Figure size 720x360 with 1 Axes>"
      ]
     },
     "metadata": {
      "needs_background": "light"
     },
     "output_type": "display_data"
    }
   ],
   "source": [
    "fig, ax = plt.subplots(figsize=(10, 5))\n",
    "\n",
    "ax.bar(genres, avg_ratings)\n",
    "\n",
    "ax.set_xticklabels(genres, rotation=45)\n",
    "\n",
    "ax.set_ylabel(\"Imdb ratings\")\n",
    "\n",
    "ax.set_title('Average Imdb ratings by genre')\n",
    "\n",
    "plt.show()"
   ]
  }
 ],
 "metadata": {
  "kernelspec": {
   "display_name": "Python 3",
   "language": "python",
   "name": "python3"
  },
  "language_info": {
   "codemirror_mode": {
    "name": "ipython",
    "version": 3
   },
   "file_extension": ".py",
   "mimetype": "text/x-python",
   "name": "python",
   "nbconvert_exporter": "python",
   "pygments_lexer": "ipython3",
   "version": "3.7.3"
  }
 },
 "nbformat": 4,
 "nbformat_minor": 2
}
