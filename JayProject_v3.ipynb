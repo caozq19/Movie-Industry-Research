{
 "cells": [
  {
   "cell_type": "code",
   "execution_count": 42,
   "metadata": {},
   "outputs": [],
   "source": [
    "from bs4 import BeautifulSoup\n",
    "import requests\n",
    "import copy\n",
    "import re\n",
    "import pickle\n",
    "from collections import defaultdict\n",
    "import sys\n",
    "sys.setrecursionlimit(40000)\n",
    "\n",
    "actors_list = []\n",
    "\n",
    "\n",
    "# retrieve actors list\n",
    "def get_actors_list(tag, style):\n",
    "    dirty_actors_list = list(soup.findAll(tag, style=style))\n",
    "    clean_actors_list = []\n",
    "    for line in dirty_actors_list:\n",
    "        clean_actors_list.append(line.a.string)\n",
    "    return clean_actors_list\n",
    "\n",
    "def get_bankability_metrics(tag, style):\n",
    "    # primary bankability metrics________________________________________________\n",
    "    dirty_bank_list = list(soup.findAll(tag, style=style))\n",
    "    clean_bank_list = []\n",
    "    for line in dirty_bank_list:\n",
    "        clean_bank_list.append(int(line.text[1:].replace(',','')))\n",
    "    # print(clean_bank_list) # test-print\n",
    "\n",
    "    # secondary bankability metrics________________________________________________\n",
    "    movs_per_yr_list = []\n",
    "    bank_per_yr_list = []\n",
    "    bank_per_mov_list = []\n",
    "    for n in dirty_bank_list:\n",
    "        string_container = n.nextSibling.nextSibling.get_text()\n",
    "        # print(string_container, \"END \\n\")  # temp\n",
    "        # parse through loop and retrieve movies per year for each actor\n",
    "        divider1 = string_container.find(\" movies/year\")\n",
    "        movs_per_yr_list.append(float(string_container[2:divider1]))\n",
    "        # parse through loop to retrieve bankability per year for each actor\n",
    "        divider2 = string_container.find(\"/year\", divider1) + divider1\n",
    "        divider3 = string_container.find(\"/year\", divider2 + divider1)\n",
    "        bank_per_yr_list.append(int(string_container[divider2 + divider1:divider3].replace(',', '')))\n",
    "        bank_per_mov_list.append(bank_per_yr_list[-1] / movs_per_yr_list[-1])\n",
    "    \n",
    "    # test-prints______________________________________\n",
    "    # print(movs_per_yr_list, len(movs_per_yr_list))\n",
    "    # print(bank_per_yr_list, len(bank_per_yr_list))\n",
    "    # print(bank_per_mov_list, len(bank_per_mov_list))\n",
    "    return clean_bank_list\n",
    "\n",
    "\n",
    "# Primary Roles________________________________________________\n",
    "def get_roles_in_films(identifier):\n",
    "    films_dict = defaultdict(list)\n",
    "    rank = 1\n",
    "    # print('length = ', len(list(soup.find_all(id=\"col2mid\")))) # temp\n",
    "    for l in list(soup.find_all(id=identifier)):\n",
    "        for r in list(re.findall(r'summary\">(.*?)<', str(l))):\n",
    "            # attempting to replace gibberish chars with appropriate apostrophes and colons\n",
    "            if r.find('â') != -1:\n",
    "                if r[r.find('â')+3] == 's':\n",
    "                    r = r[:r.find('â')]+\"'\"+r[r.find('â')+3:]\n",
    "                else:\n",
    "                    r = r[:r.find('â')]+\":\"+r[r.find('â')+2:]\n",
    "            # print('X94! ', r.find('x94')) # r.replace('\\\\x94','')\n",
    "            if r not in films_dict[str(rank)]: # check if duplicate, skip if it is\n",
    "                films_dict[str(rank)].append(r)\n",
    "        rank +=1\n",
    "    return films_dict\n",
    "\n",
    "# MAIN CODE _____________________________________________________\n",
    "# GET and prettify via Beautiful Soup\n",
    "html_page = requests.get(\"https://www.the-numbers.com/bankability\") #Make a get request to retrieve the page\n",
    "soup = BeautifulSoup(html_page.content, 'html.parser') #Pass the page contents to beautiful soup for parsing\n",
    "# soup.prettify # test-print\n",
    "\n",
    "actors_list = get_actors_list('span', \"font-size:200%;\")\n",
    "bank_list = get_bankability_metrics('div', \"font-size:200%;\")\n",
    "roles_in_films_dict = get_roles_in_films(\"col2mid\")\n",
    "\n",
    "\n",
    "# put it all together____________________________\n",
    "main_dict = {}\n",
    "attributes = {}\n",
    "if len(actors_list) == len(bank_list):\n",
    "    for i in range(len(actors_list)):\n",
    "        attributes['rank'] = i+1\n",
    "        attributes['bankability'] = bank_list[i]\n",
    "        # attributes['bank per movie'] = bank_per_mov_list[i]\n",
    "        attributes['roles'] = roles_in_films_dict[str(i+1)]\n",
    "        main_dict[actors_list[i]] = attributes.copy()\n",
    "else:\n",
    "    raise ValueError\n",
    "# main_dict # test-print\n"
   ]
  },
  {
   "cell_type": "code",
   "execution_count": 43,
   "metadata": {},
   "outputs": [],
   "source": [
    "filename = \"actors_dict\"\n",
    "outfile = open(filename, 'wb')"
   ]
  },
  {
   "cell_type": "code",
   "execution_count": 44,
   "metadata": {},
   "outputs": [],
   "source": [
    "pickle.dump(main_dict, outfile)\n",
    "outfile.close()"
   ]
  },
  {
   "cell_type": "code",
   "execution_count": 45,
   "metadata": {},
   "outputs": [],
   "source": [
    "infile = open(filename,'rb')\n",
    "new_dict = pickle.load(infile)\n",
    "infile.close()"
   ]
  },
  {
   "cell_type": "code",
   "execution_count": 46,
   "metadata": {},
   "outputs": [
    {
     "name": "stdout",
     "output_type": "stream",
     "text": [
      "{'Tom Cruise': {'rank': 1, 'bankability': 22537572, 'roles': ['Mission: Impossible:\\x94Fallout', 'Mission: Impossible:\\x94Rogue Nation', 'Mission: Impossible:\\x94Ghost Protocol', 'War of the Worlds', 'Austin Powers in Goldmember', 'Mission: Impossible 2', 'Mission: Impossible III']}, 'Will Smith': {'rank': 2, 'bankability': 20593743, 'roles': ['Aladdin', 'Suicide Squad', 'I am Legend', 'Hancock', 'Men in Black 3', 'Hitch', 'The Pursuit of Happyness', 'Annie', 'I, Robot']}, 'Robert Downey, Jr.': {'rank': 3, 'bankability': 16602313, 'roles': ['Avengers: Endgame', 'Avengers: Infinity War', 'The Avengers', 'Avengers: Age of Ultron', 'Captain America: Civil War', 'The Judge', 'A Guide to Recognizing Your Saints']}, 'Sandra Bullock': {'rank': 4, 'bankability': 15694181, 'roles': ['Minions', 'Gravity', 'The Blind Side', \"Ocean's 8\", 'The Heat', 'The Proposal', 'Miss Congeniality', 'Two Weeks Notice', 'Miss Congeniality 2: Armed and Fabulous', 'Hope Floats']}, 'Kathleen Kennedy': {'rank': 5, 'bankability': 15416491, 'roles': ['Star Wars Ep. VII: The Force Awakens', 'Star Wars Ep. VIII: The Last Jedi', 'Rogue One: A Star Wars Story', 'Solo: A Star Wars Story', 'Indiana Jones and the Kingdom of the Crystal Skull', 'Contact']}, 'Clint Eastwood': {'rank': 6, 'bankability': 14466692, 'roles': ['The Mule', 'Gran Torino', 'Million Dollar Baby', 'Space Cowboys', 'In the Line of Fire', 'American Sniper', 'Sully']}, 'Denzel Washington': {'rank': 7, 'bankability': 14189296, 'roles': ['The Equalizer 2', 'Safe House', 'The Magnificent Seven', 'The Equalizer', 'American Gangster', 'The Book of Eli', 'Fences']}, 'Ben Affleck': {'rank': 8, 'bankability': 13770962, 'roles': ['Batman v Superman: Dawn of Justice', 'Justice League', 'Gone Girl', 'Argo', 'Pearl Harbor', 'The Town']}, 'Vin Diesel': {'rank': 9, 'bankability': 13610706, 'roles': ['Avengers: Infinity War', 'Guardians of the Galaxy Vol 2', 'Furious 7', 'Guardians of the Galaxy', 'The Fate of the Furious', 'Fast and Furious 6', 'Fast Five', 'Fast &amp; Furious']}, 'Kevin Feige': {'rank': 10, 'bankability': 13144845, 'roles': ['Avengers: Endgame', 'Black Panther', 'Avengers: Infinity War', 'The Avengers', 'Captain Marvel']}, 'Leonardo DiCaprio': {'rank': 11, 'bankability': 11501979, 'roles': ['Titanic', 'Inception', 'The Revenant', 'Django Unchained', 'The Great Gatsby', 'The Wolf of Wall Street', 'Robin Hood', 'The Ides of March', 'Red Riding Hood', 'Runner Runner']}, 'John Williams': {'rank': 12, 'bankability': 11486027, 'roles': ['Star Wars Ep. VII: The Force Awakens', 'Star Wars Ep. VIII: The Last Jedi', 'Jurassic World', 'Jurassic World: Fallen Kingdom', 'Star Wars Ep. III: Revenge of the Sith', \"The Boys: The Sherman Brothers' Story\"]}, 'Steven Spielberg': {'rank': 13, 'bankability': 11175085, 'roles': ['Jurassic World', 'Jurassic World: Fallen Kingdom', 'Transformers: Dark of the Moon', 'Transformers: Revenge of the Fallen', 'Indiana Jones and the Kingdom of the Crystal Skull', 'Austin Powers in Goldmember', 'The Lost World: Jurassic Park', 'Paul', 'Gremlins', 'The Blues Brothers']}, 'Tom Hanks': {'rank': 14, 'bankability': 11091235, 'roles': ['Toy Story 4', 'Toy Story 3', 'The Da Vinci Code', 'Sully', 'Forrest Gump', 'Mamma Mia: Here We Go Again!', 'My Big Fat Greek Wedding', 'Cast Away', 'The Polar Express', 'Mamma Mia!']}, 'Michael Keaton': {'rank': 15, 'bankability': 10979173, 'roles': ['Spider-Man: Homecoming', 'Minions', 'Toy Story 3', 'Dumbo', 'Cars', 'The Merry Gentleman']}, 'Jon Favreau': {'rank': 16, 'bankability': 10851176, 'roles': ['Avengers: Endgame', 'Spider-Man: Far From Home', 'Spider-Man: Homecoming', 'The Jungle Book', 'Iron Man 3', 'Avengers: Infinity War', 'The Lion King', 'Avengers: Age of Ultron']}, 'Kenneth Branagh': {'rank': 17, 'bankability': 10802765, 'roles': ['Dunkirk', 'Harry Potter and the Chamber of Secrets', 'Murder on the Orient Express', 'Valkyrie', 'Wild Wild West', 'Cinderella', 'Thor', 'Jack Ryan: Shadow Recruit']}, 'Angelina Jolie Pitt': {'rank': 18, 'bankability': 10786097, 'roles': ['Maleficent', 'Kung Fu Panda', 'Kung Fu Panda 3', 'Kung Fu Panda 2', 'Mr. and Mrs. Smith', 'Unbroken', 'By the Sea']}, 'Bradley Cooper': {'rank': 19, 'bankability': 10482036, 'roles': ['Avengers: Endgame', 'Avengers: Infinity War', 'Guardians of the Galaxy Vol 2', 'American Sniper', 'Guardians of the Galaxy', 'A Star is Born']}, 'Gwyneth Paltrow': {'rank': 20, 'bankability': 10223870, 'roles': ['Avengers: Endgame', 'Avengers: Infinity War', 'The Avengers', 'Iron Man 3', 'Spider-Man: Homecoming']}, 'David Heyman': {'rank': 21, 'bankability': 10080186, 'roles': ['Harry Potter and the Deathly Hallows: Part II', 'Gravity', 'Fantastic Beasts and Where to Find Them', 'Harry Potter and the Deathly Hallows: Part I', 'Harry Potter and the Half-Blood Prince']}, 'John Lasseter': {'rank': 22, 'bankability': 9864583, 'roles': ['Incredibles 2', 'Toy Story 4', 'Finding Dory', 'Frozen', 'Inside Out', \"The Boys: The Sherman Brothers' Story\"]}, 'Alan Silvestri': {'rank': 23, 'bankability': 9679797, 'roles': ['Avengers: Endgame', 'Avengers: Infinity War', 'The Avengers', 'The Croods', 'Ready Player One']}, 'Scarlett Johansson': {'rank': 24, 'bankability': 9675619, 'roles': ['Avengers: Endgame', 'Avengers: Infinity War', 'The Avengers', 'Avengers: Age of Ultron', 'Captain America: Civil War', 'The Whale']}, 'Emma Watson': {'rank': 25, 'bankability': 9467350, 'roles': ['Beauty and the Beast', 'Harry Potter and the Deathly Hallows: Part II', 'Harry Potter and the Deathly Hallows: Part I', 'Harry Potter and the Half-Blood Prince', 'Harry Potter and the Order of the Phoenix']}, 'Jim Carrey': {'rank': 26, 'bankability': 9083733, 'roles': ['Bruce Almighty', 'How the Grinch Stole Christmas', 'Horton Hears a Who', \"Disney's A Christmas Carol\", 'Dumb and Dumber To', 'Fun With Dick And Jane', 'Ace Ventura: Pet Detective', 'Rubble Kings']}, 'Adam Sandler': {'rank': 27, 'bankability': 8899915, 'roles': ['Hotel Transylvania 3: Summer Vacation', 'Hotel Transylvania 2', 'Hotel Transylvania', 'Grown Ups', 'Grown Ups 2']}, 'Matt Damon': {'rank': 28, 'bankability': 8838814, 'roles': ['The Martian', 'Jason Bourne', 'Interstellar', 'The Bourne Ultimatum', 'True Grit', 'Good Will Hunting', 'Manchester by the Sea']}, 'Dwayne Johnson': {'rank': 29, 'bankability': 8679831, 'roles': ['Jumanji: Welcome to the Jungle', 'Furious 7', 'Moana', 'The Fate of the Furious', 'Fast and Furious 6', 'Shazam!', 'Rampage', 'Skyscraper', 'Journey 2: The Mysterious Island']}, 'George Clooney': {'rank': 30, 'bankability': 8678721, 'roles': ['Gravity', 'Tomorrowland', \"Ocean's Eleven\", 'The Perfect Storm', \"Ocean's Thirteen\", 'Argo', 'The Monuments Men', 'Money Monster']}, 'Eddie Redmayne': {'rank': 31, 'bankability': 8459158, 'roles': ['Fantastic Beasts and Where to Find Them', 'Fantastic Beasts: The Crimes of Grindelwald', 'Les Miserables', 'Jupiter Ascending', 'The Theory of Everything']}, 'Ryan Reynolds': {'rank': 32, 'bankability': 8454752, 'roles': ['Deadpool', 'Deadpool 2', 'PokÃ©mon: Detective Pikachu', 'The Croods', 'X-Men Origins: Wolverine', 'R.I.P.D.', 'The Whale']}, 'Cameron Diaz': {'rank': 33, 'bankability': 8415932, 'roles': ['Shrek 2', 'Shrek the Third', 'Shrek Forever After', 'Shrek', 'Bad Teacher']}, 'Gal Gadot': {'rank': 34, 'bankability': 8402849, 'roles': ['Wonder Woman', 'Batman v Superman: Dawn of Justice', 'Furious 7', 'Justice League', 'Ralph Breaks The Internet']}, 'Samuel L. Jackson': {'rank': 35, 'bankability': 8180346, 'roles': ['Avengers: Endgame', 'Incredibles 2', 'Captain Marvel', 'Avengers: Infinity War', 'The Avengers', \"Eve's Bayou\", \"The Caveman's Valentine\", 'The Samaritan']}, 'Djimon Hounsou': {'rank': 36, 'bankability': 8130231, 'roles': ['Captain Marvel', 'Aquaman', 'Furious 7', 'Guardians of the Galaxy', 'Shazam!']}, 'Brad Pitt': {'rank': 37, 'bankability': 8100147, 'roles': ['Deadpool 2', 'World War Z', 'Mr. and Mrs. Smith', 'Megamind', 'The Curious Case of Benjamin Button', 'The Departed', 'Fury', 'The Big Short', 'Eat Pray Love']}, \"Lupita Nyong'o\": {'rank': 38, 'bankability': 8081050, 'roles': ['Star Wars Ep. VII: The Force Awakens', 'Black Panther', 'Star Wars Ep. VIII: The Last Jedi', 'The Jungle Book', 'Us']}, 'Russell Crowe': {'rank': 39, 'bankability': 8023745, 'roles': ['Man of Steel', 'Les Miserables', 'Noah', 'Gladiator', 'American Gangster', 'Robin Hood', 'The Water Diviner']}, 'Julia Roberts': {'rank': 40, 'bankability': 7982614, 'roles': ['Wonder', \"Ocean's Eleven\", \"Valentine's Day\", 'Runaway Bride', \"Ocean's Twelve\", 'Stepmom', 'Jesus Henry Christ']}, 'Tom Hardy': {'rank': 41, 'bankability': 7924721, 'roles': ['Star Wars Ep. VIII: The Last Jedi', 'The Dark Knight Rises', 'Venom', 'Inception', 'Dunkirk', 'Legend']}, 'Frank Marshall': {'rank': 42, 'bankability': 7891161, 'roles': ['Jurassic World', 'Jurassic World: Fallen Kingdom', 'Indiana Jones and the Kingdom of the Crystal Skull', 'Jason Bourne', 'The Bourne Ultimatum', 'Raiders of the Lost Ark', 'Kari gurashi no Arietti']}, 'Harrison Ford': {'rank': 43, 'bankability': 7876773, 'roles': ['Star Wars Ep. VII: The Force Awakens', 'Indiana Jones and the Kingdom of the Crystal Skull', 'The Secret Life of Pets 2', 'Blade Runner 2049', '42', 'K-19: The Widowmaker']}, 'Hugh Jackman': {'rank': 44, 'bankability': 7781327, 'roles': ['Deadpool 2', 'Logan', 'X-Men: Days of Future Past', 'The Greatest Showman', 'X-Men: The Last Stand', 'X-Men Origins: Wolverine', 'Missing Link']}, 'James Wan': {'rank': 45, 'bankability': 7728167, 'roles': ['Aquaman', 'Furious 7', 'The Nun', 'Insidious Chapter 3']}, 'Reese Witherspoon': {'rank': 46, 'bankability': 7663786, 'roles': ['Sing', 'Monsters vs. Aliens', 'A Wrinkle in Time', 'Four Christmases', 'Walk the Line', 'Gone Girl', 'Wild', 'Hot Pursuit']}, 'Mark Wahlberg': {'rank': 47, 'bankability': 7581985, 'roles': ['Transformers: Age of Extinction', 'Ted', \"Daddy's Home\", 'Transformers: The Last Knight', \"Daddy's Home 2\", 'Lone Survivor', 'Instant Family', 'The Fighter', 'Deepwater Horizon']}, 'Johnny Depp': {'rank': 48, 'bankability': 7566729, 'roles': [\"Pirates of the Caribbean: Dead Man's Chest\", 'Alice in Wonderland', \"Pirates of the Caribbean: At World's End\", 'Pirates of the Caribbean: On Stranger Tides', 'Pirates of the Caribbean: Dead Men Tell No Tales', 'The Lone Ranger', 'Dark Shadows', 'Hugo', 'The Rum Diary', 'Mortdecai']}, 'Chris Evans': {'rank': 49, 'bankability': 7527266, 'roles': ['Avengers: Endgame', 'Avengers: Infinity War', 'The Avengers', 'Avengers: Age of Ultron', 'Captain America: Civil War', 'Before We Go']}, 'Mark Ruffalo': {'rank': 50, 'bankability': 7352303, 'roles': ['Avengers: Endgame', 'Avengers: Infinity War', 'The Avengers', 'Avengers: Age of Ultron', 'Thor: Ragnarok', 'Infinitely Polar Bear', 'Anything', 'Sympathy for Delicious']}}\n",
      "True\n",
      "<class 'dict'>\n"
     ]
    }
   ],
   "source": [
    "# confirm it's loaded accurately\n",
    "print(new_dict)\n",
    "print(new_dict==main_dict)\n",
    "print(type(new_dict))"
   ]
  },
  {
   "cell_type": "code",
   "execution_count": null,
   "metadata": {},
   "outputs": [],
   "source": [
    "import config\n",
    "import mysql.connector ## Connect to DB server on AWS\n",
    "\n",
    "## connecting to the database using 'connect()' method\n",
    "## it takes 3 required parameters 'host', 'user', 'passwd'\n",
    "cnx = mysql.connector.connect(\n",
    "    host = config.host,\n",
    "    user = config.user,\n",
    "    passwd = config.password,\n",
    "    database = \"Movie Project1\"\n",
    ")\n",
    "\n",
    "cursor = cnx.cursor()\n",
    "print(cnx)"
   ]
  },
  {
   "cell_type": "code",
   "execution_count": null,
   "metadata": {},
   "outputs": [],
   "source": [
    "for actor in main_dict:\n",
    "    for i in range(len(main_dict[actor]['roles'])):\n",
    "        # INSERT INDIVIDUALLY\n",
    "        # print(type(actor), type(main_dict[actor]['bankability']), type(main_dict[actor]['roles'][i]))\n",
    "        add_actor_line = (\"INSERT INTO Actors \"\n",
    "               \"(name, bankability, title) \"\n",
    "               \"VALUES (%s, %s, %s)\")\n",
    "        data_actor_line = (str(actor), main_dict[actor]['bankability'], main_dict[actor]['roles'][i])\n",
    "        # Insert new actor line\n",
    "        cursor.execute(add_actor_line, data_actor_line)\n",
    "\n",
    "cnx.commit()"
   ]
  },
  {
   "cell_type": "code",
   "execution_count": null,
   "metadata": {},
   "outputs": [],
   "source": []
  },
  {
   "cell_type": "code",
   "execution_count": null,
   "metadata": {},
   "outputs": [],
   "source": []
  },
  {
   "cell_type": "code",
   "execution_count": null,
   "metadata": {},
   "outputs": [],
   "source": []
  },
  {
   "cell_type": "code",
   "execution_count": null,
   "metadata": {},
   "outputs": [],
   "source": []
  },
  {
   "cell_type": "code",
   "execution_count": null,
   "metadata": {},
   "outputs": [],
   "source": [
    "query = (\"SELECT DISTINCT name, bankability FROM Actors \")\n",
    "\n",
    "# hire_start = datetime.date(1999, 1, 1)\n",
    "# hire_end = datetime.date(1999, 12, 31)\n",
    "\n",
    "cursor.execute(query)\n",
    "\n",
    "for (first_name, last_name, hire_date) in cursor:\n",
    "    print(\"{}, {} was hired on {:%d %b %Y}\".format(\n",
    "    last_name, first_name, hire_date))"
   ]
  },
  {
   "cell_type": "code",
   "execution_count": null,
   "metadata": {},
   "outputs": [],
   "source": [
    "cursor.close()\n",
    "cnx.close()"
   ]
  }
 ],
 "metadata": {
  "kernelspec": {
   "display_name": "Python 3",
   "language": "python",
   "name": "python3"
  },
  "language_info": {
   "codemirror_mode": {
    "name": "ipython",
    "version": 3
   },
   "file_extension": ".py",
   "mimetype": "text/x-python",
   "name": "python",
   "nbconvert_exporter": "python",
   "pygments_lexer": "ipython3",
   "version": "3.7.3"
  }
 },
 "nbformat": 4,
 "nbformat_minor": 2
}
